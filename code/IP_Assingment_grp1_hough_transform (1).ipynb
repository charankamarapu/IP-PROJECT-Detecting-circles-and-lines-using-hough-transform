{
 "cells": [
  {
   "cell_type": "code",
   "execution_count": 19,
   "metadata": {},
   "outputs": [
    {
     "data": {
      "text/plain": [
       "'\\n\\n                        LINES AND CIRCLES DETECTION IN EDGE DETECTED IMAGE USING HOUGH TRANSFORM \\n                    \\nGUI :-\\n    \\n Input      :    edge detected image / normal image\\n Processing :    detecting lines / circles using hough transform\\n Output     :    images of original image, edge image, hough transform ,detected image\\n\\n\\n\\n'"
      ]
     },
     "execution_count": 19,
     "metadata": {},
     "output_type": "execute_result"
    }
   ],
   "source": [
    "'''\n",
    "\n",
    "                        LINES AND CIRCLES DETECTION IN EDGE DETECTED IMAGE USING HOUGH TRANSFORM \n",
    "                    \n",
    "GUI :-\n",
    "    \n",
    " Input      :    edge detected image / normal image\n",
    " Processing :    detecting lines / circles using hough transform\n",
    " Output     :    images of original image, edge image, hough transform ,detected image\n",
    "\n",
    "\n",
    "\n",
    "'''    "
   ]
  },
  {
   "cell_type": "code",
   "execution_count": 20,
   "metadata": {},
   "outputs": [],
   "source": [
    "import cv2\n",
    "import numpy as np\n",
    "import matplotlib.pyplot as plt\n",
    "import matplotlib.lines as mlines\n",
    "from collections import defaultdict\n",
    "import tkinter as tk\n",
    "from tkinter import *\n",
    "from tkinter.filedialog import askopenfile\n",
    "from PIL import Image, ImageTk\n",
    "import os"
   ]
  },
  {
   "cell_type": "code",
   "execution_count": 21,
   "metadata": {},
   "outputs": [
    {
     "name": "stdout",
     "output_type": "stream",
     "text": [
      "C:\\Users\\kamar\n"
     ]
    }
   ],
   "source": [
    "path = os.getcwd()\n",
    "print(path)"
   ]
  },
  {
   "cell_type": "code",
   "execution_count": 22,
   "metadata": {},
   "outputs": [],
   "source": [
    "# Alogrithm for line detection\n",
    "\n",
    "def line_detection(filename,num_rhos=180, num_thetas=180):\n",
    "  \n",
    "  # Getting image from filepath\n",
    "  image = cv2.imread(filename)\n",
    "\n",
    "  # Gray conversion\n",
    "  edge_image = cv2.cvtColor(image, cv2.COLOR_BGR2GRAY)\n",
    "\n",
    "  # Blurring image for perfect edge detection\n",
    "  edge_image = cv2.GaussianBlur(edge_image, (3, 3), 1)\n",
    "\n",
    "  # Edge detection \n",
    "  edge_image = cv2.Canny(edge_image, 100, 200)\n",
    "\n",
    "  # Closing operation to fill small gaps\n",
    "  edge_image = cv2.dilate(edge_image,cv2.getStructuringElement(cv2.MORPH_RECT, (5, 5)),iterations=1)\n",
    "  edge_image = cv2.erode(edge_image,cv2.getStructuringElement(cv2.MORPH_RECT, (5, 5)),iterations=1)\n",
    "  \n",
    "  edge_height, edge_width = edge_image.shape[:2]\n",
    "  edge_height_half, edge_width_half = edge_height / 2, edge_width / 2\n",
    "    \n",
    "  # Finding the max perpendicular distance i.e diagonal\n",
    "  d = np.sqrt(np.square(edge_height) + np.square(edge_width))\n",
    "  \n",
    "  # Step size for dicretising the accumulator cells\n",
    "  dtheta = 180 / num_thetas\n",
    "  drho = (2 * d) / num_rhos\n",
    "    \n",
    "  # Axes for accumulator\n",
    "  thetas = np.arange(0, 180, step=dtheta)\n",
    "  rhos = np.arange(-d, d, step=drho)\n",
    "\n",
    "  # Cosine and Sine values for using in the equation\n",
    "  cos_thetas = np.cos(np.deg2rad(thetas))\n",
    "  sin_thetas = np.sin(np.deg2rad(thetas))\n",
    "    \n",
    "  # Accumulator array\n",
    "  accumulator = np.zeros((len(rhos), len(rhos)))\n",
    "    \n",
    "  # plotting\n",
    "  figure = plt.figure(figsize=(12, 12))\n",
    "  subplot1 = figure.add_subplot(1, 4, 1)\n",
    "  subplot1.imshow(image)\n",
    "  subplot2 = figure.add_subplot(1, 4, 2)\n",
    "  subplot2.imshow(edge_image, cmap=\"gray\")\n",
    "  subplot3 = figure.add_subplot(1, 4, 3)\n",
    "  subplot3.set_facecolor((0, 0, 0))\n",
    "  subplot4 = figure.add_subplot(1, 4, 4)\n",
    "  subplot4.imshow(image)\n",
    "    \n",
    "  # Converting into parameter transform and modifying accumulator \n",
    "  for y in range(edge_height):\n",
    "    for x in range(edge_width):\n",
    "        \n",
    "      # Apply only if pixel is part of edge\n",
    "      if edge_image[y][x] != 0:\n",
    "        \n",
    "        # Shifting axis to the center for using in the parametric equation\n",
    "        edge_point = [y - edge_height_half, x - edge_width_half]\n",
    "        \n",
    "        ys, xs = [], []\n",
    "        \n",
    "        # Varying thetas and finding rhos to plot the parametric graph and increment accumulator \n",
    "        for theta_idx in range(len(thetas)):\n",
    "            \n",
    "          # Parametric equation\n",
    "          rho = (edge_point[1] * cos_thetas[theta_idx]) + (edge_point[0] * sin_thetas[theta_idx])\n",
    "            \n",
    "          theta = thetas[theta_idx]\n",
    "        \n",
    "          # Finding rho index of the rho we got by the particular theta\n",
    "          rho_idx = np.argmin(np.abs(rhos - rho))\n",
    "        \n",
    "          # Incrementing accumulator\n",
    "          accumulator[rho_idx][theta_idx] += 1\n",
    "          \n",
    "          # Appending parameter graph\n",
    "          ys.append(rho)\n",
    "          xs.append(theta)\n",
    "        \n",
    "        # Ploting parameter graph\n",
    "        subplot3.plot(xs, ys, color=\"white\", alpha=0.05)\n",
    "   \n",
    "  # Threshold for acuumulator value\n",
    "  t_count =  np.amax(accumulator)//2\n",
    "  if t_count<=60:\n",
    "        t_count = 60\n",
    "        \n",
    "\n",
    "  list2=[]\n",
    "  \n",
    "\n",
    "  # Finding proper values of rho , theta which represent lines\n",
    "\n",
    "  for y in range(accumulator.shape[0]):\n",
    "    for x in range(accumulator.shape[1]):\n",
    "      if accumulator[y][x] > t_count:\n",
    "        list2.append([y,x])\n",
    "  x = 0\n",
    "  list3=[]\n",
    "  k = 0\n",
    "  while  x!= len(list2) :\n",
    "    y = x+1\n",
    "    last = []\n",
    "    last.append(list2[x])\n",
    "    while  y!=len(list2) :\n",
    "        if ((list2[y][0]-list2[x][0]>10) | (list2[y][0]-list2[x][0]<-10) |  (list2[y][1]-list2[x][1]>10) | (list2[y][1]-list2[x][1]<-10)):\n",
    "            x = y\n",
    "            k = 0\n",
    "            break\n",
    "        else :\n",
    "            last.append(list2[y])\n",
    "            y = y+1\n",
    "            k = 1\n",
    "    list3.append(last)\n",
    "    if k==1 :\n",
    "        break\n",
    "  c =[]\n",
    "  for p in list3:\n",
    "    d = []\n",
    "    for q in  p :\n",
    "        d.append(accumulator[q[0]][q[1]])\n",
    "    maxvalue = max(d)\n",
    "    indexvalue  = d.index(maxvalue)\n",
    "    c.append(p[indexvalue])\n",
    "    \n",
    "        \n",
    "    \n",
    "  # Drawing lines with the rho and theta we got    \n",
    "  for final in c:\n",
    "    y = final[0]\n",
    "    x = final[1]\n",
    "    rho = rhos[y]\n",
    "    theta = thetas[x]\n",
    "    a = np.cos(np.deg2rad(theta))\n",
    "    b = np.sin(np.deg2rad(theta))\n",
    "    \n",
    "    # Finding mid point x,y from and reshifting the axis\n",
    "    x0 = (a * rho) + edge_width_half\n",
    "    y0 = (b * rho) + edge_height_half\n",
    "    \n",
    "    # Calculating 2 point i.e extreme ends\n",
    "    x1 = int(x0 + 1000 * (-b))\n",
    "    y1 = int(y0 + 1000 * (a))\n",
    "    x2 = int(x0 - 1000 * (-b))\n",
    "    y2 = int(y0 - 1000 * (a))\n",
    "    \n",
    "    # Ploting lines on the original image\n",
    "    subplot3.plot([theta], [rho], marker='o', color=\"yellow\")\n",
    "    subplot4.add_line(mlines.Line2D([x1, x2], [y1, y2]))\n",
    "    \n",
    "    \n",
    "  # Ploting\n",
    "  subplot3.invert_yaxis()\n",
    "  subplot3.invert_xaxis()\n",
    "\n",
    "  subplot1.title.set_text(\"Original Image\")\n",
    "  subplot2.title.set_text(\"Edge Image\")\n",
    "  subplot3.title.set_text(\"Hough Space\")\n",
    "  subplot4.title.set_text(\"Detected Lines\")\n",
    "  plt.show()\n",
    "  #return accumulator, rhos, thetas\n",
    "  \n",
    "  # saving sub plots  \n",
    "  extent = subplot1.get_window_extent().transformed(figure.dpi_scale_trans.inverted())\n",
    "  figure.savefig('a.png', bbox_inches=extent)\n",
    "    \n",
    "  extent = subplot2.get_window_extent().transformed(figure.dpi_scale_trans.inverted())\n",
    "  figure.savefig('b.png', bbox_inches=extent)\n",
    "    \n",
    "  extent = subplot3.get_window_extent().transformed(figure.dpi_scale_trans.inverted())\n",
    "  figure.savefig('c.png', bbox_inches=extent)\n",
    "\n",
    "  extent = subplot4.get_window_extent().transformed(figure.dpi_scale_trans.inverted())\n",
    "  figure.savefig('d.png', bbox_inches=extent)\n",
    "\n",
    "  \n",
    "  # GUI for representing output images\n",
    "    \n",
    "  greeting1 = tk.Text(window,foreground=\"white\",background=\"black\",width=1400,height=2)\n",
    "  greeting1.insert(tk.END,\"    Original Image        Edge Image         Hough Transform          Lines detected  \")\n",
    "  greeting1.config(font=(\"Courier\", 20))\n",
    "  greeting1.place(x=50, y=260,width=1400,height=50)\n",
    "  \n",
    "\n",
    "  load = Image.open(\"a.png\")\n",
    "  load1 = load.resize((350,350))\n",
    "  render = ImageTk.PhotoImage(load1)\n",
    "  img = Label(image=render)\n",
    "  img.image = render\n",
    "  img.place(x=50, y=300,width=350,height=350)\n",
    "\n",
    "  load = Image.open(\"b.png\")\n",
    "  load1 = load.resize((350,350))\n",
    "  render = ImageTk.PhotoImage(load1)\n",
    "  img = Label(image=render)\n",
    "  img.image = render\n",
    "  img.place(x=400, y=300,width=350,height=350)\n",
    "\n",
    "  load = Image.open(\"c.png\")\n",
    "  load1 = load.resize((350,350))\n",
    "  render = ImageTk.PhotoImage(load1)\n",
    "  img = Label(image=render)\n",
    "  img.image = render\n",
    "  img.place(x=750, y=300,width=350,height=350)\n",
    "\n",
    "  load = Image.open(\"d.png\")\n",
    "  load1 = load.resize((350,350))\n",
    "  render = ImageTk.PhotoImage(load1)\n",
    "  img = Label(image=render)\n",
    "  img.image = render\n",
    "  img.place(x=1100, y=300,width=350,height=350)\n"
   ]
  },
  {
   "cell_type": "code",
   "execution_count": 23,
   "metadata": {},
   "outputs": [],
   "source": [
    "# Algorithm for detecting circles\n",
    "def circle_detection(filename):\n",
    "  \n",
    "  # Loading image from filename\n",
    "  image = cv2.imread(filename)\n",
    "\n",
    "  # Gray conversion\n",
    "  edge_image = cv2.cvtColor(image, cv2.COLOR_BGR2GRAY)\n",
    "\n",
    "  # Blurring image for perfect edge detection\n",
    "  edge_image = cv2.GaussianBlur(edge_image, (3, 3), 1)\n",
    "\n",
    "  # Edge detection \n",
    "  edge_image = cv2.Canny(edge_image, 100, 200)\n",
    "\n",
    "  # Closing operation to fill small gaps\n",
    "  #edge_image = cv2.dilate(edge_image,cv2.getStructuringElement(cv2.MORPH_RECT, (5, 5)),iterations=1)\n",
    "  #edge_image = cv2.erode(edge_image,cv2.getStructuringElement(cv2.MORPH_RECT, (5, 5)),iterations=1)\n",
    "  edge_height, edge_width = edge_image.shape[:2]\n",
    "  \n",
    "    \n",
    "  # Finding the max radius i.e diagonal\n",
    "  d = int(np.sqrt(np.square(edge_height) + np.square(edge_width)))\n",
    "    \n",
    "    \n",
    "  \n",
    "  # Step size for dicretising the accumulator cells\n",
    "  hstep = edge_width//60\n",
    "  kstep =  edge_height//60\n",
    "  rstep = d//50\n",
    "    \n",
    "  # Dicretising\n",
    "  hs = np.arange(0,edge_width, step=hstep)\n",
    "  ks = np.arange(0,edge_height, step=kstep)\n",
    "  rs = np.arange(0,d, step=rstep)\n",
    "    \n",
    "  # Accumulator dictionery\n",
    "  accumulator = defaultdict(float)\n",
    "    \n",
    "  # plotting\n",
    "  figure = plt.figure(figsize=(12, 12))\n",
    "  subplot1 = figure.add_subplot(1, 4, 1)\n",
    "  subplot1.imshow(image)\n",
    "  subplot2 = figure.add_subplot(1, 4, 2)\n",
    "  subplot2.imshow(edge_image, cmap=\"gray\")\n",
    "  subplot3 = figure.add_subplot(1, 4, 3 , projection='3d')\n",
    "  subplot3.set_facecolor((0, 0, 0))\n",
    "  subplot4 = figure.add_subplot(1, 4, 4)\n",
    "  subplot4.imshow(image)\n",
    "    \n",
    "  # Converting into parameter transform and modifying accumulator \n",
    "  for y in range(edge_height):\n",
    "    for x in range(edge_width):\n",
    "        \n",
    "      # Apply only if pixel is part of edge\n",
    "      if edge_image[y][x] != 0:\n",
    "            \n",
    "        hlist, klist, rlist = [], [],[]\n",
    "        \n",
    "        for h in hs:\n",
    "            for k in ks:\n",
    "                \n",
    "                r = int(np.sqrt(np.square(x-h) + np.square(y-k)))\n",
    "                r_idx = np.argmin(np.abs(rs - r))\n",
    "                rfinal = rs[r_idx]\n",
    "                if rfinal!=0:\n",
    "                    if rfinal>=15:\n",
    "                        accumulator[(h,k,rfinal)] = accumulator[(h,k,rfinal)] + (1/(2*(3.14)*rfinal))\n",
    "              # Appending parameter graph\n",
    "                hlist.append(h)\n",
    "                klist.append(k)\n",
    "                rlist.append(r)\n",
    "                \n",
    "        # Ploting parameter graph\n",
    "        subplot3.plot(hlist, klist,rlist, color=\"white\", alpha=0.05)\n",
    "   \n",
    "  # Threshold for acuumulator value\n",
    "  t_count = max(accumulator.values())*0.98\n",
    "\n",
    " \n",
    "  # Finding circles\n",
    "  final_list=[]\n",
    "  for key, value in accumulator.items():\n",
    "    if value >= t_count:\n",
    "        final_list.append(key)\n",
    "        \n",
    "  \n",
    "\n",
    "\n",
    "  # Drawing line with the center and radius we got    \n",
    "  for final in final_list:\n",
    "    hfinal = final[0]\n",
    "    kfinal = final[1]\n",
    "    rfinal = final[2]\n",
    "\n",
    "    # Ploting lines on the original image\n",
    "    subplot3.plot(hfinal,kfinal,rfinal, marker='o', color=\"yellow\")\n",
    "    circle1 = plt.Circle((hfinal,kfinal),rfinal, color='green', fill=False)\n",
    "    subplot4.add_artist(circle1)\n",
    "    \n",
    "    \n",
    "  # Ploting\n",
    "  subplot3.invert_yaxis()\n",
    "  subplot3.invert_xaxis()\n",
    "\n",
    "  subplot1.title.set_text(\"Original Image\")\n",
    "  subplot2.title.set_text(\"Edge Image\")\n",
    "  subplot3.title.set_text(\"Hough Space\")\n",
    "  subplot4.title.set_text(\"Detected Lines\")\n",
    "  plt.show()\n",
    "\n",
    "  \n",
    "  # saving subplots\n",
    "  extent = subplot1.get_window_extent().transformed(figure.dpi_scale_trans.inverted())\n",
    "  figure.savefig('a.png', bbox_inches=extent)\n",
    "    \n",
    "  extent = subplot2.get_window_extent().transformed(figure.dpi_scale_trans.inverted())\n",
    "  figure.savefig('b.png', bbox_inches=extent)\n",
    "    \n",
    "  extent = subplot3.get_window_extent().transformed(figure.dpi_scale_trans.inverted())\n",
    "  figure.savefig('c.png', bbox_inches=extent)\n",
    "\n",
    "  extent = subplot4.get_window_extent().transformed(figure.dpi_scale_trans.inverted())\n",
    "  figure.savefig('d.png', bbox_inches=extent)\n",
    "\n",
    "  # GUI for displaying output\n",
    "  greeting1 = tk.Text(window,foreground=\"white\",background=\"black\",width=1400,height=2)\n",
    "  greeting1.insert(tk.END,\"    Original Image        Edge Image         Hough Transform          Circles detected  \")\n",
    "  greeting1.config(font=(\"Courier\", 20))\n",
    "  greeting1.place(x=50, y=260,width=1400,height=50)\n",
    "  \n",
    "\n",
    "  load = Image.open(\"a.png\")\n",
    "  load1 = load.resize((350,350))\n",
    "  render = ImageTk.PhotoImage(load1)\n",
    "  img = Label(image=render)\n",
    "  img.image = render\n",
    "  img.place(x=50, y=300,width=350,height=350)\n",
    "\n",
    "  load = Image.open(\"b.png\")\n",
    "  load1 = load.resize((350,350))\n",
    "  render = ImageTk.PhotoImage(load1)\n",
    "  img = Label(image=render)\n",
    "  img.image = render\n",
    "  img.place(x=400, y=300,width=350,height=350)\n",
    "\n",
    "  load = Image.open(\"c.png\")\n",
    "  load1 = load.resize((350,350))\n",
    "  render = ImageTk.PhotoImage(load1)\n",
    "  img = Label(image=render)\n",
    "  img.image = render\n",
    "  img.place(x=750, y=300,width=350,height=350)\n",
    "\n",
    "  load = Image.open(\"d.png\")\n",
    "  load1 = load.resize((350,350))\n",
    "  render = ImageTk.PhotoImage(load1)\n",
    "  img = Label(image=render)\n",
    "  img.image = render\n",
    "  img.place(x=1100, y=300,width=350,height=350)\n"
   ]
  },
  {
   "cell_type": "code",
   "execution_count": 24,
   "metadata": {},
   "outputs": [
    {
     "data": {
      "image/png": "[encoded data removed]",
      "text/plain": [
       "<Figure size 864x864 with 4 Axes>"
      ]
     },
     "metadata": {
      "needs_background": "light"
     },
     "output_type": "display_data"
    }
   ],
   "source": [
    "# GUI\n",
    "\n",
    "window = tk.Tk()\n",
    "window.geometry('1000x1000')\n",
    "greeting = tk.Label(text=\"Lines and Circles Detector\",foreground=\"white\",background=\"#34A2FE\",width=1000,height=2)\n",
    "greeting.config(font=(\"Courier\", 44))\n",
    "greeting.pack()\n",
    "\n",
    "s = \"\"\n",
    "\n",
    "def open_file():\n",
    "    file = askopenfile(mode ='r', filetypes =[(\"Image files\",\"*.*\")])\n",
    "    global s\n",
    "    s = file.name\n",
    "\n",
    "        \n",
    "def changeOnHover(button, colorOnHover, colorOnLeave):\n",
    "    button.bind(\"<Enter>\", func=lambda e: button.config(background=colorOnHover))\n",
    "    button.bind(\"<Leave>\", func=lambda e: button.config(background=colorOnLeave))\n",
    "  \n",
    "btn1 = tk.Button(window, text ='CHOOSE FILE', relief=RAISED, command = lambda:open_file(),bg ='gray87',font=('Courier',15))\n",
    "changeOnHover(btn1, \"powder blue\", \"gray87\")\n",
    "btn1.pack(side = LEFT, pady = 20)\n",
    "btn1.place(x=150, y=150,width=200,height=100)\n",
    "\n",
    "btn2 = tk.Button(window, text ='DETECT LINES', relief=RAISED, command = lambda:line_detection(s),bg ='gray87',font=('Courier',15))\n",
    "changeOnHover(btn2, \"powder blue\", \"gray87\")\n",
    "btn2.pack(side = TOP, pady = 20)\n",
    "btn2.place(x=700, y=150,width=200,height=100)\n",
    "\n",
    "btn3 = tk.Button(window, text ='DETECT CIRCLES', relief=RAISED, command = lambda:circle_detection(s),bg ='gray87',font=('Courier',15))\n",
    "changeOnHover(btn3, \"powder blue\", \"gray87\")\n",
    "btn3.pack(side = TOP, pady = 20)\n",
    "btn3.place(x=1250, y=150,width=200,height=100)\n",
    "\n",
    "greeting1 = tk.Text(window,foreground=\"white\",background=\"black\",width=1400,height=2)\n",
    "greeting1.insert(tk.END,\"             It takes time , please Wait for the results after pressing detection \")\n",
    "greeting1.config(font=(\"Courier\", 20))\n",
    "greeting1.place(x=50, y=300,width=1400,height=50)\n",
    "\n",
    "       \n",
    "mainloop()"
   ]
  },
  {
   "cell_type": "code",
   "execution_count": null,
   "metadata": {},
   "outputs": [],
   "source": []
  },
  {
   "cell_type": "code",
   "execution_count": null,
   "metadata": {},
   "outputs": [],
   "source": []
  },
  {
   "cell_type": "code",
   "execution_count": null,
   "metadata": {},
   "outputs": [],
   "source": []
  },
  {
   "cell_type": "code",
   "execution_count": null,
   "metadata": {},
   "outputs": [],
   "source": []
  },
  {
   "cell_type": "code",
   "execution_count": null,
   "metadata": {},
   "outputs": [],
   "source": []
  },
  {
   "cell_type": "code",
   "execution_count": null,
   "metadata": {},
   "outputs": [],
   "source": []
  },
  {
   "cell_type": "code",
   "execution_count": null,
   "metadata": {},
   "outputs": [],
   "source": []
  },
  {
   "cell_type": "code",
   "execution_count": null,
   "metadata": {},
   "outputs": [],
   "source": []
  },
  {
   "cell_type": "code",
   "execution_count": null,
   "metadata": {},
   "outputs": [],
   "source": []
  },
  {
   "cell_type": "code",
   "execution_count": null,
   "metadata": {},
   "outputs": [],
   "source": []
  },
  {
   "cell_type": "code",
   "execution_count": null,
   "metadata": {},
   "outputs": [],
   "source": []
  },
  {
   "cell_type": "code",
   "execution_count": null,
   "metadata": {},
   "outputs": [],
   "source": []
  },
  {
   "cell_type": "code",
   "execution_count": null,
   "metadata": {},
   "outputs": [],
   "source": []
  },
  {
   "cell_type": "code",
   "execution_count": null,
   "metadata": {},
   "outputs": [],
   "source": []
  },
  {
   "cell_type": "code",
   "execution_count": null,
   "metadata": {},
   "outputs": [],
   "source": []
  },
  {
   "cell_type": "code",
   "execution_count": null,
   "metadata": {},
   "outputs": [],
   "source": []
  },
  {
   "cell_type": "code",
   "execution_count": null,
   "metadata": {},
   "outputs": [],
   "source": []
  },
  {
   "cell_type": "code",
   "execution_count": null,
   "metadata": {},
   "outputs": [],
   "source": []
  },
  {
   "cell_type": "code",
   "execution_count": null,
   "metadata": {},
   "outputs": [],
   "source": []
  },
  {
   "cell_type": "code",
   "execution_count": null,
   "metadata": {},
   "outputs": [],
   "source": []
  },
  {
   "cell_type": "code",
   "execution_count": null,
   "metadata": {},
   "outputs": [],
   "source": []
  },
  {
   "cell_type": "code",
   "execution_count": null,
   "metadata": {},
   "outputs": [],
   "source": []
  },
  {
   "cell_type": "code",
   "execution_count": null,
   "metadata": {},
   "outputs": [],
   "source": []
  },
  {
   "cell_type": "code",
   "execution_count": null,
   "metadata": {},
   "outputs": [],
   "source": []
  },
  {
   "cell_type": "code",
   "execution_count": null,
   "metadata": {},
   "outputs": [],
   "source": []
  },
  {
   "cell_type": "code",
   "execution_count": null,
   "metadata": {},
   "outputs": [],
   "source": []
  },
  {
   "cell_type": "code",
   "execution_count": null,
   "metadata": {},
   "outputs": [],
   "source": []
  },
  {
   "cell_type": "code",
   "execution_count": null,
   "metadata": {},
   "outputs": [],
   "source": []
  },
  {
   "cell_type": "code",
   "execution_count": null,
   "metadata": {},
   "outputs": [],
   "source": []
  },
  {
   "cell_type": "code",
   "execution_count": null,
   "metadata": {},
   "outputs": [],
   "source": []
  },
  {
   "cell_type": "code",
   "execution_count": null,
   "metadata": {},
   "outputs": [],
   "source": []
  },
  {
   "cell_type": "code",
   "execution_count": null,
   "metadata": {},
   "outputs": [],
   "source": []
  },
  {
   "cell_type": "code",
   "execution_count": null,
   "metadata": {},
   "outputs": [],
   "source": []
  },
  {
   "cell_type": "code",
   "execution_count": null,
   "metadata": {},
   "outputs": [],
   "source": []
  },
  {
   "cell_type": "code",
   "execution_count": null,
   "metadata": {},
   "outputs": [],
   "source": []
  },
  {
   "cell_type": "code",
   "execution_count": null,
   "metadata": {},
   "outputs": [],
   "source": []
  },
  {
   "cell_type": "code",
   "execution_count": null,
   "metadata": {},
   "outputs": [],
   "source": []
  },
  {
   "cell_type": "code",
   "execution_count": null,
   "metadata": {},
   "outputs": [],
   "source": []
  },
  {
   "cell_type": "code",
   "execution_count": null,
   "metadata": {},
   "outputs": [],
   "source": []
  },
  {
   "cell_type": "code",
   "execution_count": null,
   "metadata": {},
   "outputs": [],
   "source": []
  },
  {
   "cell_type": "code",
   "execution_count": null,
   "metadata": {},
   "outputs": [],
   "source": []
  },
  {
   "cell_type": "code",
   "execution_count": null,
   "metadata": {},
   "outputs": [],
   "source": []
  },
  {
   "cell_type": "code",
   "execution_count": null,
   "metadata": {},
   "outputs": [],
   "source": []
  },
  {
   "cell_type": "code",
   "execution_count": null,
   "metadata": {},
   "outputs": [],
   "source": []
  },
  {
   "cell_type": "code",
   "execution_count": null,
   "metadata": {},
   "outputs": [],
   "source": []
  },
  {
   "cell_type": "code",
   "execution_count": null,
   "metadata": {},
   "outputs": [],
   "source": []
  },
  {
   "cell_type": "code",
   "execution_count": null,
   "metadata": {},
   "outputs": [],
   "source": []
  },
  {
   "cell_type": "code",
   "execution_count": null,
   "metadata": {},
   "outputs": [],
   "source": []
  },
  {
   "cell_type": "code",
   "execution_count": null,
   "metadata": {},
   "outputs": [],
   "source": []
  },
  {
   "cell_type": "code",
   "execution_count": null,
   "metadata": {},
   "outputs": [],
   "source": []
  },
  {
   "cell_type": "code",
   "execution_count": null,
   "metadata": {},
   "outputs": [],
   "source": []
  },
  {
   "cell_type": "code",
   "execution_count": null,
   "metadata": {},
   "outputs": [],
   "source": []
  },
  {
   "cell_type": "code",
   "execution_count": null,
   "metadata": {},
   "outputs": [],
   "source": []
  },
  {
   "cell_type": "code",
   "execution_count": null,
   "metadata": {},
   "outputs": [],
   "source": []
  },
  {
   "cell_type": "code",
   "execution_count": null,
   "metadata": {},
   "outputs": [],
   "source": []
  },
  {
   "cell_type": "code",
   "execution_count": null,
   "metadata": {},
   "outputs": [],
   "source": []
  },
  {
   "cell_type": "code",
   "execution_count": null,
   "metadata": {},
   "outputs": [],
   "source": []
  },
  {
   "cell_type": "code",
   "execution_count": null,
   "metadata": {},
   "outputs": [],
   "source": []
  },
  {
   "cell_type": "code",
   "execution_count": null,
   "metadata": {},
   "outputs": [],
   "source": []
  },
  {
   "cell_type": "code",
   "execution_count": null,
   "metadata": {},
   "outputs": [],
   "source": []
  },
  {
   "cell_type": "code",
   "execution_count": null,
   "metadata": {},
   "outputs": [],
   "source": []
  },
  {
   "cell_type": "code",
   "execution_count": null,
   "metadata": {},
   "outputs": [],
   "source": []
  },
  {
   "cell_type": "code",
   "execution_count": null,
   "metadata": {},
   "outputs": [],
   "source": []
  },
  {
   "cell_type": "code",
   "execution_count": null,
   "metadata": {},
   "outputs": [],
   "source": []
  },
  {
   "cell_type": "code",
   "execution_count": null,
   "metadata": {},
   "outputs": [],
   "source": []
  },
  {
   "cell_type": "code",
   "execution_count": null,
   "metadata": {},
   "outputs": [],
   "source": []
  },
  {
   "cell_type": "code",
   "execution_count": null,
   "metadata": {},
   "outputs": [],
   "source": []
  },
  {
   "cell_type": "code",
   "execution_count": null,
   "metadata": {},
   "outputs": [],
   "source": []
  },
  {
   "cell_type": "code",
   "execution_count": null,
   "metadata": {},
   "outputs": [],
   "source": []
  },
  {
   "cell_type": "code",
   "execution_count": null,
   "metadata": {},
   "outputs": [],
   "source": []
  },
  {
   "cell_type": "code",
   "execution_count": null,
   "metadata": {},
   "outputs": [],
   "source": []
  },
  {
   "cell_type": "code",
   "execution_count": null,
   "metadata": {},
   "outputs": [],
   "source": []
  },
  {
   "cell_type": "code",
   "execution_count": null,
   "metadata": {},
   "outputs": [],
   "source": []
  },
  {
   "cell_type": "code",
   "execution_count": null,
   "metadata": {},
   "outputs": [],
   "source": []
  },
  {
   "cell_type": "code",
   "execution_count": null,
   "metadata": {},
   "outputs": [],
   "source": []
  },
  {
   "cell_type": "code",
   "execution_count": null,
   "metadata": {},
   "outputs": [],
   "source": []
  },
  {
   "cell_type": "code",
   "execution_count": null,
   "metadata": {},
   "outputs": [],
   "source": []
  },
  {
   "cell_type": "code",
   "execution_count": null,
   "metadata": {},
   "outputs": [],
   "source": []
  },
  {
   "cell_type": "code",
   "execution_count": null,
   "metadata": {},
   "outputs": [],
   "source": []
  },
  {
   "cell_type": "code",
   "execution_count": null,
   "metadata": {},
   "outputs": [],
   "source": []
  },
  {
   "cell_type": "code",
   "execution_count": null,
   "metadata": {},
   "outputs": [],
   "source": []
  },
  {
   "cell_type": "code",
   "execution_count": null,
   "metadata": {},
   "outputs": [],
   "source": []
  },
  {
   "cell_type": "code",
   "execution_count": null,
   "metadata": {},
   "outputs": [],
   "source": []
  },
  {
   "cell_type": "code",
   "execution_count": null,
   "metadata": {},
   "outputs": [],
   "source": []
  },
  {
   "cell_type": "code",
   "execution_count": null,
   "metadata": {},
   "outputs": [],
   "source": []
  },
  {
   "cell_type": "code",
   "execution_count": null,
   "metadata": {},
   "outputs": [],
   "source": []
  },
  {
   "cell_type": "code",
   "execution_count": null,
   "metadata": {},
   "outputs": [],
   "source": []
  },
  {
   "cell_type": "code",
   "execution_count": null,
   "metadata": {},
   "outputs": [],
   "source": []
  },
  {
   "cell_type": "code",
   "execution_count": null,
   "metadata": {},
   "outputs": [],
   "source": []
  },
  {
   "cell_type": "code",
   "execution_count": null,
   "metadata": {},
   "outputs": [],
   "source": []
  },
  {
   "cell_type": "code",
   "execution_count": null,
   "metadata": {},
   "outputs": [],
   "source": []
  },
  {
   "cell_type": "code",
   "execution_count": null,
   "metadata": {},
   "outputs": [],
   "source": []
  },
  {
   "cell_type": "code",
   "execution_count": null,
   "metadata": {},
   "outputs": [],
   "source": []
  },
  {
   "cell_type": "code",
   "execution_count": null,
   "metadata": {},
   "outputs": [],
   "source": []
  },
  {
   "cell_type": "code",
   "execution_count": null,
   "metadata": {},
   "outputs": [],
   "source": []
  },
  {
   "cell_type": "code",
   "execution_count": null,
   "metadata": {},
   "outputs": [],
   "source": []
  },
  {
   "cell_type": "code",
   "execution_count": null,
   "metadata": {},
   "outputs": [],
   "source": []
  },
  {
   "cell_type": "code",
   "execution_count": null,
   "metadata": {},
   "outputs": [],
   "source": []
  },
  {
   "cell_type": "code",
   "execution_count": null,
   "metadata": {},
   "outputs": [],
   "source": []
  },
  {
   "cell_type": "code",
   "execution_count": null,
   "metadata": {},
   "outputs": [],
   "source": []
  },
  {
   "cell_type": "code",
   "execution_count": null,
   "metadata": {},
   "outputs": [],
   "source": []
  },
  {
   "cell_type": "code",
   "execution_count": null,
   "metadata": {},
   "outputs": [],
   "source": []
  },
  {
   "cell_type": "code",
   "execution_count": null,
   "metadata": {},
   "outputs": [],
   "source": []
  },
  {
   "cell_type": "code",
   "execution_count": null,
   "metadata": {},
   "outputs": [],
   "source": []
  },
  {
   "cell_type": "code",
   "execution_count": null,
   "metadata": {},
   "outputs": [],
   "source": []
  },
  {
   "cell_type": "code",
   "execution_count": null,
   "metadata": {},
   "outputs": [],
   "source": []
  },
  {
   "cell_type": "code",
   "execution_count": null,
   "metadata": {},
   "outputs": [],
   "source": []
  },
  {
   "cell_type": "code",
   "execution_count": null,
   "metadata": {},
   "outputs": [],
   "source": []
  },
  {
   "cell_type": "code",
   "execution_count": null,
   "metadata": {},
   "outputs": [],
   "source": []
  },
  {
   "cell_type": "code",
   "execution_count": null,
   "metadata": {},
   "outputs": [],
   "source": []
  },
  {
   "cell_type": "code",
   "execution_count": null,
   "metadata": {},
   "outputs": [],
   "source": []
  },
  {
   "cell_type": "code",
   "execution_count": null,
   "metadata": {},
   "outputs": [],
   "source": []
  },
  {
   "cell_type": "code",
   "execution_count": null,
   "metadata": {},
   "outputs": [],
   "source": []
  },
  {
   "cell_type": "code",
   "execution_count": null,
   "metadata": {},
   "outputs": [],
   "source": []
  }
 ],
 "metadata": {
  "kernelspec": {
   "display_name": "Python 3",
   "language": "python",
   "name": "python3"
  },
  "language_info": {
   "codemirror_mode": {
    "name": "ipython",
    "version": 3
   },
   "file_extension": ".py",
   "mimetype": "text/x-python",
   "name": "python",
   "nbconvert_exporter": "python",
   "pygments_lexer": "ipython3",
   "version": "3.6.13"
  }
 },
 "nbformat": 4,
 "nbformat_minor": 4
}
